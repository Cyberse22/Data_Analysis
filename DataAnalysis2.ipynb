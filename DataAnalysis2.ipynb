{
 "cells": [
  {
   "cell_type": "code",
   "id": "initial_id",
   "metadata": {
    "collapsed": true,
    "ExecuteTime": {
     "end_time": "2024-10-30T01:24:15.683114Z",
     "start_time": "2024-10-30T01:24:11.504846Z"
    }
   },
   "source": [
    "import numpy as np\n",
    "import pandas as pd\n",
    "from numpy.matrixlib.defmatrix import matrix"
   ],
   "outputs": [],
   "execution_count": 1
  },
  {
   "metadata": {
    "ExecuteTime": {
     "end_time": "2024-10-30T01:43:47.936766Z",
     "start_time": "2024-10-30T01:43:47.927172Z"
    }
   },
   "cell_type": "code",
   "source": [
    "arr = np.array([26, 7, 19, 27, 12, 29])\n",
    "arr2 = np.arange(10)\n",
    "print(arr2)\n",
    "print(arr.size)"
   ],
   "id": "b59cfc9245f6c86b",
   "outputs": [
    {
     "name": "stdout",
     "output_type": "stream",
     "text": [
      "[0 1 2 3 4 5 6 7 8 9]\n",
      "6\n"
     ]
    }
   ],
   "execution_count": 30
  },
  {
   "metadata": {
    "ExecuteTime": {
     "end_time": "2024-10-30T01:40:46.614180Z",
     "start_time": "2024-10-30T01:40:46.597394Z"
    }
   },
   "cell_type": "code",
   "source": [
    "a = np.empty([1, 10], dtype=int)\n",
    "b = np.zeros([1, 10], dtype=int)\n",
    "print(a)\n",
    "print(b)"
   ],
   "id": "69960b1aebde1b56",
   "outputs": [
    {
     "name": "stdout",
     "output_type": "stream",
     "text": [
      "[[4607182418800017408 4607182418800017408 4607182418800017408\n",
      "  4607182418800017408 4607182418800017408 4607182418800017408\n",
      "  4607182418800017408 4607182418800017408 4607182418800017408\n",
      "  4607182418800017408]]\n",
      "[[0 0 0 0 0 0 0 0 0 0]]\n"
     ]
    }
   ],
   "execution_count": 24
  },
  {
   "metadata": {
    "ExecuteTime": {
     "end_time": "2024-10-30T01:47:58.171472Z",
     "start_time": "2024-10-30T01:47:58.159200Z"
    }
   },
   "cell_type": "code",
   "source": [
    "a = np.random.randint(1, 100, size=(3, 4))\n",
    "b = np.random.randint(1, 9, size=(1, 15))\n",
    "print(a)\n",
    "print(b)"
   ],
   "id": "a60f614c288a8a55",
   "outputs": [
    {
     "name": "stdout",
     "output_type": "stream",
     "text": [
      "[[36 62  9 46]\n",
      " [19  5 40 74]\n",
      " [54 27 39 20]]\n",
      "[[6 6 6 3 5 1 3 2 6 1 8 2 6 4 5]]\n"
     ]
    }
   ],
   "execution_count": 35
  },
  {
   "metadata": {
    "ExecuteTime": {
     "end_time": "2024-10-30T02:32:11.462131Z",
     "start_time": "2024-10-30T02:31:57.646253Z"
    }
   },
   "cell_type": "code",
   "source": [
    "a = np.array([[5, 10, 21], [11, 23, 18], [22, 19, 35], [96, 22, 26]])\n",
    "vector_a = np.array(a[3])\n",
    "sub_a = a[0:4, 2:3] # 0:4: Có các dòng từ 0 đến 3 với tổng là 4 dòng, 2:3 có các cột từ 0 đến 2 tổng là 3 nhưng chỉ lấy từ cột thứ 2 trở đi \n",
    "# print(a)\n",
    "# print(a.size, a.ndim, a.shape)\n",
    "# # print(a[2], a[3])\n",
    "# # print(vector_a)\n",
    "# print(f\"In ra sub_a: \\n{sub_a}\")\n",
    "# b = a[1:4, 1:3]\n",
    "# print(f'Ma trận mới: \\n{b}')\n",
    "print(f\"Matrix có {a.shape} chiều với kích thước là {a.ndim}. Với kích thước là n:n dòng và m:m cột\")\n",
    "n1 = int(input(f'Nhập vị trí từ dòng: '))\n",
    "n2 = int(input(f'Nhập vị trí tới dòng: '))\n",
    "n3 = int(input(f'Nhập vị trí từ dòng: '))\n",
    "n4 = int(input(f'Nhập vị trí tới dòng: '))\n",
    "n = int(input(f'Nhập giá trị n: '))\n",
    "value = a[n1:n2, n3:n4] \n",
    "value[0] = n\n",
    "print(a)\n"
   ],
   "id": "2b24fe881fc487",
   "outputs": [
    {
     "name": "stdout",
     "output_type": "stream",
     "text": [
      "Matrix có (4, 3) chiều với kích thước là 2. Với kích thước là n:n dòng và m:m cột\n",
      "[[ 5 10 21]\n",
      " [11 23 18]\n",
      " [22 19 35]\n",
      " [96 22 26]]\n"
     ]
    }
   ],
   "execution_count": 94
  },
  {
   "metadata": {
    "ExecuteTime": {
     "end_time": "2024-10-30T02:37:36.533571Z",
     "start_time": "2024-10-30T02:37:36.525422Z"
    }
   },
   "cell_type": "code",
   "source": [
    "a = np.random.randint(10, 20, size=(1, 20-10))\n",
    "b = a.reshape(2, 5)\n",
    "print(b)\n",
    "print(b.shape)"
   ],
   "id": "d93e1962214b64f0",
   "outputs": [
    {
     "name": "stdout",
     "output_type": "stream",
     "text": [
      "[[13 16 10 11 12]\n",
      " [16 16 19 14 16]]\n",
      "(2, 5)\n"
     ]
    }
   ],
   "execution_count": 108
  },
  {
   "metadata": {
    "ExecuteTime": {
     "end_time": "2024-10-30T03:10:19.583048Z",
     "start_time": "2024-10-30T03:10:19.578280Z"
    }
   },
   "cell_type": "code",
   "source": [
    "a = np.array([99, 46, 87, 62, 11, 32])\n",
    "b = a.reshape(2, 3)\n",
    "median_a = np.median(a)\n",
    "array_a = np.sort(a)\n",
    "array_b = -np.sort(-a)\n",
    "odd_a = a[a % 2 == 1]\n",
    "even_a = a[a % 2 == 0]\n",
    "# if a[4] % 2 == 0:\n",
    "#     print(f\"Phần tử a[4] = {a[4]} là chẵn\")\n",
    "# else:\n",
    "#     print(f\"Phần tử a[4] = {a[4]} là lẻ\")\n",
    "# n1 = int(input(\"Nhập giá trị cần thay thế: \"))\n",
    "# n2 = np.mean(a)\n",
    "# if np.any(a == n1):\n",
    "#     a[a == n1] = n2\n",
    "#     print(f\"Vector sau khi thay thế: {a}\")\n",
    "# else: \n",
    "#     print(f\"Không tìm thấy {n1} trong vector\")\n",
    "    \n",
    "# n11 = int(input(\"Nhập giá trị cần xóa: \"))\n",
    "n11 = 62\n",
    "if n11 in a:\n",
    "    a = a[a != n11]\n",
    "    print(f\"Vector mới: {a}\")\n",
    "else:\n",
    "    print(f\"Không tìm thấy giá trị {n11} trong vector\")\n",
    "# print(a)\n",
    "# print(a.min(), a.max())\n",
    "# print(array_a)\n",
    "# print(array_b)\n",
    "# print(f\"Số phần tử chẵn: {odd_a.size}\")\n",
    "# print(np.sort(odd_a))\n",
    "# print(np.sort(even_a))\n",
    "# print(f\"Trung bình: {a.mean()}, trung vị: {median_a} và tổng: {a.sum()}\")"
   ],
   "id": "692739f70d13e979",
   "outputs": [
    {
     "name": "stdout",
     "output_type": "stream",
     "text": [
      "Vector mới: [99 46 87 11 32]\n"
     ]
    }
   ],
   "execution_count": 145
  },
  {
   "metadata": {
    "ExecuteTime": {
     "end_time": "2024-10-30T03:38:41.283048Z",
     "start_time": "2024-10-30T03:38:41.278423Z"
    }
   },
   "cell_type": "code",
   "source": [
    "matrix_1 = np.array([[5, 10, 21], [11, 23, 18], [22, 19, 35]])\n",
    "matrix_2 = np.array([[50, 10, 41], [61, 23, 28], [42, 11, 25]])\n",
    "matrix_3 = np.array([[96, 22, 26], [87, 56, 23], [90, 75, 32]])\n",
    "matrix_4 = matrix_2.reshape(3, 3)\n",
    "vector_5 = matrix_4.flatten()\n",
    "vector_6 = np.array([matrix_1[0:1, 0:1], matrix_2[0:1, 0:1], matrix_3[0:1, 0:1]]).flatten()\n",
    "get_two_last_m1 = matrix_1[2:3, 1:3]\n",
    "print(get_two_last_m1)\n",
    "\n",
    "mean_m1 = np.mean(matrix_1)\n",
    "matrix_2[0:1, 0:1] = mean_m1\n",
    "matrix_3[2:3, 2:3] = -1\n",
    "vector_5 = np.append(vector_5, 45)\n",
    "vector_5 = np.insert(vector_5, 0, 99)\n",
    "# print(matrix_2)\n",
    "# print(matrix_3.sum())\n",
    "# print(matrix_3)\n",
    "# print(matrix_4, matrix_4.shape)\n",
    "# print(vector_5)\n",
    "print(vector_6)"
   ],
   "id": "1425beb376a625be",
   "outputs": [
    {
     "name": "stdout",
     "output_type": "stream",
     "text": [
      "[[19 35]]\n",
      "[ 5 50 96]\n"
     ]
    }
   ],
   "execution_count": 177
  },
  {
   "metadata": {
    "ExecuteTime": {
     "end_time": "2024-10-30T03:56:44.900500Z",
     "start_time": "2024-10-30T03:56:44.895422Z"
    }
   },
   "cell_type": "code",
   "source": [
    "ds = [15, 32, 10, 32, 29, 48, 21]\n",
    "vector_1 = np.array(ds)\n",
    "vector_2 = np.append(vector_1, 99)\n",
    "new_matrix_1 = vector_2.reshape(2, 4)\n",
    "vector_3 = np.insert(vector_1, 1, 55)\n",
    "new_matrix_2 = vector_3.reshape(4, 2)\n",
    "print(vector_1)\n",
    "print(f\"Số chiều trong vector là {vector_1.ndim} và số phần tử trong vector là {vector_1.size}\")\n",
    "print(new_matrix_1)\n",
    "print(f\"Vector mới là \\n{vector_3} \\nMatrix mới là \\n{new_matrix_2}\")\n",
    "print(f\"Giá trị lẻ là: {vector_1[vector_1 % 2 != 0]}\")"
   ],
   "id": "db782ecbfdd132fa",
   "outputs": [
    {
     "name": "stdout",
     "output_type": "stream",
     "text": [
      "[15 32 10 32 29 48 21]\n",
      "Số chiều trong vector là 1 và số phần tử trong vector là 7\n",
      "[[15 32 10 32]\n",
      " [29 48 21 99]]\n",
      "Vector mới là \n",
      "[15 55 32 10 32 29 48 21] \n",
      "Matrix mới là \n",
      "[[15 55]\n",
      " [32 10]\n",
      " [32 29]\n",
      " [48 21]]\n",
      "Giá trị lẻ là: [15 29 21]\n"
     ]
    }
   ],
   "execution_count": 191
  },
  {
   "metadata": {
    "ExecuteTime": {
     "end_time": "2024-10-30T04:23:35.402892Z",
     "start_time": "2024-10-30T04:23:35.396746Z"
    }
   },
   "cell_type": "code",
   "source": [
    "# file = open(\"sinhvien.txt\")\n",
    "# matrix_sv = np.array(file.read())\n",
    "# matrix_sv = np.insert(matrix_sv, 0, \"Stt\")\n",
    "# matrix_sv = np.insert(matrix_sv, 1, \"Ten\")\n",
    "# matrix_sv = np.insert(matrix_sv, 2, \"Tuoi\")\n",
    "# print(matrix_sv)\n",
    "# np.savetxt('matrix.txt', matrix_sv, fmt='%d', delimiter=',')\n",
    "\n",
    "# Open and read the file\n",
    "file = open(\"sinhvien.txt\")\n",
    "data = file.readlines()\n",
    "\n",
    "# Convert data to a NumPy array\n",
    "matrix_sv = np.array([line.strip().split() for line in data])\n",
    "\n",
    "# Insert column headers\n",
    "headers = np.array([[\"Stt\", \"HoTen\", \"Tuoi\"]])\n",
    "matrix_sv = np.vstack((headers, matrix_sv))\n",
    "\n",
    "# Calculate the average age\n",
    "ages = matrix_sv[1:, 2].astype(int)  \n",
    "average_age = np.mean(ages)\n",
    "\n",
    "print(f\"Matrix với tiêu đề: \\n{matrix_sv}\")\n",
    "print(f\"Tuổi trung bình: {average_age:.2f}\")\n",
    "\n",
    "# Save to txt file with string format\n",
    "try:\n",
    "    np.savetxt('matrix.txt', matrix_sv, fmt='%s', delimiter=',')\n",
    "    print(\"Lưu thành công\")\n",
    "except Exception as e:\n",
    "    print(f\"Lỗi khi lưu file: {e}\")\n",
    "\n",
    "file.close()"
   ],
   "id": "7e31070ba67c2556",
   "outputs": [
    {
     "name": "stdout",
     "output_type": "stream",
     "text": [
      "Matrix with headers: \n",
      "[['Stt' 'HoTen' 'Tuoi']\n",
      " ['1' 'Thanh' '20']\n",
      " ['2' 'Tam' '21']\n",
      " ['3' 'Binh' '22']\n",
      " ['4' 'Chinh' '33']\n",
      " ['5' 'Lan' '21']]\n",
      "Average age: 23.40\n",
      "Lưu thành công\n"
     ]
    }
   ],
   "execution_count": 227
  },
  {
   "metadata": {},
   "cell_type": "code",
   "outputs": [],
   "execution_count": null,
   "source": "",
   "id": "fd10bc9bbabee90c"
  }
 ],
 "metadata": {
  "kernelspec": {
   "display_name": "Python 3",
   "language": "python",
   "name": "python3"
  },
  "language_info": {
   "codemirror_mode": {
    "name": "ipython",
    "version": 2
   },
   "file_extension": ".py",
   "mimetype": "text/x-python",
   "name": "python",
   "nbconvert_exporter": "python",
   "pygments_lexer": "ipython2",
   "version": "2.7.6"
  }
 },
 "nbformat": 4,
 "nbformat_minor": 5
}
