{
 "cells": [
  {
   "cell_type": "code",
   "execution_count": null,
   "id": "10262795",
   "metadata": {},
   "outputs": [],
   "source": [
    "import numpy as np\n",
    "import pandas as pd"
   ]
  },
  {
   "cell_type": "code",
   "execution_count": 7,
   "id": "befbcc8f",
   "metadata": {},
   "outputs": [
    {
     "name": "stdout",
     "output_type": "stream",
     "text": [
      "Nhập ký tự: fsdafsdfsdfd\n",
      "Số lượng ký tự: 12\n"
     ]
    }
   ],
   "source": [
    "input_str = input(\"Nhập ký tự: \")\n",
    "count_str = len(input_str)\n",
    "\n",
    "print(f\"Số lượng ký tự: {count_str}\")\n"
   ]
  },
  {
   "cell_type": "code",
   "execution_count": 9,
   "id": "d93f7756",
   "metadata": {
    "scrolled": true
   },
   "outputs": [
    {
     "name": "stdout",
     "output_type": "stream",
     "text": [
      "Nhập đoạn văn: Python Python Python\n",
      "Số lần xuất hiện chữ Python: 3\n"
     ]
    }
   ],
   "source": [
    "input_text = input(\"Nhập đoạn văn: \")\n",
    "count_text = input_text.count(\"Python\")\n",
    "\n",
    "print(f\"Số lần xuất hiện chữ Python: {count_text}\")"
   ]
  },
  {
   "cell_type": "code",
   "execution_count": 13,
   "id": "75315af7",
   "metadata": {},
   "outputs": [
    {
     "name": "stdout",
     "output_type": "stream",
     "text": [
      "Nhập chuỗi bao gồm có chữ data: phân tích data\n",
      "Chuỗi mới: phân tích dữ liệu\n"
     ]
    }
   ],
   "source": [
    "input_char = input(\"Nhập chuỗi bao gồm có chữ data: \")\n",
    "old_char = \"data\"\n",
    "new_char = \"dữ liệu\"\n",
    "\n",
    "result = new_char.join(input_char.split(old_char))\n",
    "print(f\"Chuỗi mới: {result}\")"
   ]
  },
  {
   "cell_type": "code",
   "execution_count": 14,
   "id": "dfb1a9f9",
   "metadata": {},
   "outputs": [
    {
     "name": "stdout",
     "output_type": "stream",
     "text": [
      "Nhập chuỗi bao gồm có chữ 'data': phân tích data\n",
      "Chuỗi mới: phân tích dữ liệu\n"
     ]
    }
   ],
   "source": [
    "input_char = input(\"Nhập chuỗi bao gồm có chữ 'data': \")\n",
    "old_char = \"data\"\n",
    "new_char = \"dữ liệu\"\n",
    "\n",
    "result = \"\"\n",
    "i = 0\n",
    "\n",
    "while i < len(input_char):\n",
    "    # Kiểm tra xem đoạn con có bằng old_char không\n",
    "    if input_char[i:i+len(old_char)] == old_char:\n",
    "        result += new_char\n",
    "        i += len(old_char)  # Bỏ qua chiều dài của old_char\n",
    "    else:\n",
    "        result += input_char[i]\n",
    "        i += 1  # Di chuyển đến ký tự tiếp theo\n",
    "\n",
    "print(f\"Chuỗi mới: {result}\")"
   ]
  },
  {
   "cell_type": "code",
   "execution_count": 16,
   "id": "14c5abf2",
   "metadata": {},
   "outputs": [
    {
     "name": "stdout",
     "output_type": "stream",
     "text": [
      "Nhập số: 123\n",
      "Đọc số: một trăm hai mươi ba\n"
     ]
    }
   ],
   "source": [
    "numbers = [1, 2, 3, 4, 5, 6, 7, 8, 9, 0]\n",
    "words = [\"một\", \"hai\", \"ba\", \"bốn\", \"năm\", \"sáu\", \"bảy\", \"tám\", \"chín\", \"không\"]\n",
    "\n",
    "df = pd.DataFrame({\n",
    "    \"Số\": numbers,\n",
    "    \"Chữ\": words\n",
    "})\n",
    "# Hàm chuyển đổi số thành chữ\n",
    "def number_to_words(n):\n",
    "    if n == 0:\n",
    "        return df.loc[df['Số'] == 0, 'Chữ'].values[0]  # \"không\"\n",
    "    \n",
    "    units = [\"\", \"mười\", \"trăm\", \"ngàn\"]\n",
    "    words = []\n",
    "    \n",
    "    if n >= 100:\n",
    "        hundreds = n // 100\n",
    "        words.append(df.loc[df['Số'] == hundreds, 'Chữ'].values[0])\n",
    "        words.append(\"trăm\")\n",
    "        n %= 100\n",
    "\n",
    "    if n >= 20:\n",
    "        tens = n // 10\n",
    "        words.append(df.loc[df['Số'] == tens, 'Chữ'].values[0])\n",
    "        words.append(\"mươi\")\n",
    "        n %= 10\n",
    "\n",
    "    if n > 0:\n",
    "        if n == 1 and len(words) > 0:  # Điều kiện đặc biệt cho \"mười một\"\n",
    "            words.append(\"một\")\n",
    "        else:\n",
    "            words.append(df.loc[df['Số'] == n, 'Chữ'].values[0])\n",
    "\n",
    "    return ' '.join(words)\n",
    "\n",
    "# Nhập số từ người dùng\n",
    "input_number = int(input(\"Nhập số: \"))\n",
    "result = number_to_words(input_number)\n",
    "print(f\"Đọc số: {result}\")"
   ]
  },
  {
   "cell_type": "code",
   "execution_count": 28,
   "id": "999a0086",
   "metadata": {},
   "outputs": [
    {
     "name": "stdout",
     "output_type": "stream",
     "text": [
      "Nhập chuỗi thứ nhất: abcdee\n",
      "Nhập chuỗi thứ hai: acbdff\n",
      "Các ký tự trong cả a và b: a b c d\n"
     ]
    }
   ],
   "source": [
    "a = input(\"Nhập chuỗi thứ nhất: \")\n",
    "b = input(\"Nhập chuỗi thứ hai: \")\n",
    "\n",
    "set_a = set(a) \n",
    "set_b = set(b)\n",
    "\n",
    "duplicates = set_a.intersection(set_b)\n",
    "duplicates_sorted = sorted(duplicates)\n",
    "\n",
    "print(\"Các ký tự trong cả a và b:\", ' '.join(duplicates_sorted))"
   ]
  },
  {
   "cell_type": "code",
   "execution_count": 44,
   "id": "c27468e8",
   "metadata": {},
   "outputs": [
    {
     "name": "stdout",
     "output_type": "stream",
     "text": [
      "\n",
      "Chọn thao tác:\n",
      "1. Hiển thị danh sách sinh viên\n",
      "2. Thêm sinh viên\n",
      "3. Xóa sinh viên\n",
      "4. Sửa thông tin sinh viên\n",
      "5. Thoát\n",
      "Nhập lựa chọn của bạn: 1\n",
      "\n",
      "Danh sách sinh viên:\n",
      "STT   MSV        Họ và Tên                 Năm sinh   Giới tính  Dân tộc   \n",
      "1     9253       Đặng Thị Lan Anh          2000       Nữ         Hoa       \n",
      "2     7034       Nguyễn Thị Phương Anh     2002       Nữ         Kinh      \n",
      "3     6198       Trần Anh Tài              2001       Nam        Kinh      \n",
      "\n",
      "Chọn thao tác:\n",
      "1. Hiển thị danh sách sinh viên\n",
      "2. Thêm sinh viên\n",
      "3. Xóa sinh viên\n",
      "4. Sửa thông tin sinh viên\n",
      "5. Thoát\n",
      "Nhập lựa chọn của bạn: 4\n",
      "Nhập mã sinh viên cần sửa: 7034\n",
      "Nhập mã số sinh viên (MSV): 1234\n",
      "Nhập họ và tên: Phương Anh\n",
      "Nhập năm sinh: 2000\n",
      "Nhập giới tính: Nữ\n",
      "Nhập dân tộc: Kinh\n",
      "Sửa thông tin thành công\n",
      "\n",
      "Chọn thao tác:\n",
      "1. Hiển thị danh sách sinh viên\n",
      "2. Thêm sinh viên\n",
      "3. Xóa sinh viên\n",
      "4. Sửa thông tin sinh viên\n",
      "5. Thoát\n",
      "Nhập lựa chọn của bạn: 1\n",
      "\n",
      "Danh sách sinh viên:\n",
      "STT   MSV        Họ và Tên                 Năm sinh   Giới tính  Dân tộc   \n",
      "1     9253       Đặng Thị Lan Anh          2000       Nữ         Hoa       \n",
      "2     1234       Phương Anh                2000       Nữ         Kinh      \n",
      "3     6198       Trần Anh Tài              2001       Nam        Kinh      \n",
      "\n",
      "Chọn thao tác:\n",
      "1. Hiển thị danh sách sinh viên\n",
      "2. Thêm sinh viên\n",
      "3. Xóa sinh viên\n",
      "4. Sửa thông tin sinh viên\n",
      "5. Thoát\n",
      "Nhập lựa chọn của bạn: 5\n",
      "Tạm biệt!\n"
     ]
    }
   ],
   "source": [
    "DSSV =  [\n",
    "    {\n",
    "        \"STT\": 1,\n",
    "        \"MSV\": \"9253\",\n",
    "        \"Họ và Tên\": \"Đặng Thị Lan Anh\",\n",
    "        \"Năm sinh\": \"2000\",\n",
    "        \"Giới tính\": \"Nữ\",\n",
    "        \"Dân tộc\": \"Hoa\"\n",
    "    },\n",
    "    {\n",
    "        \"STT\": 2,\n",
    "        \"MSV\": \"7034\",\n",
    "        \"Họ và Tên\": \"Nguyễn Thị Phương Anh\",\n",
    "        \"Năm sinh\": \"2002\",\n",
    "        \"Giới tính\": \"Nữ\",\n",
    "        \"Dân tộc\": \"Kinh\"\n",
    "    },\n",
    "    {\n",
    "        \"STT\": 3,\n",
    "        \"MSV\": \"6198\",\n",
    "        \"Họ và Tên\": \"Trần Anh Tài\",\n",
    "        \"Năm sinh\": \"2001\",\n",
    "        \"Giới tính\": \"Nam\",\n",
    "        \"Dân tộc\": \"Kinh\"\n",
    "    }\n",
    "]\n",
    "\n",
    "def display_students():\n",
    "    print(\"\\nDanh sách sinh viên:\")\n",
    "    print(f\"{'STT':<5} {'MSV':<10} {'Họ và Tên':<25} {'Năm sinh':<10} {'Giới tính':<10} {'Dân tộc':<10}\")\n",
    "    for student in DSSV:\n",
    "        print(f\"{student['STT']:<5} {student['MSV']:<10} {student['Họ và Tên']:<25} {student['Năm sinh']:<10} {student['Giới tính']:<10} {student['Dân tộc']:<10}\")\n",
    "\n",
    "def add_student():\n",
    "    student = {}\n",
    "    student[\"STT\"] = len(DSSV) + 1\n",
    "    student[\"MSV\"] = input(\"Nhập mã số sinh viên (MSV): \")\n",
    "    student[\"Họ và Tên\"] = input(\"Nhập họ và tên: \")\n",
    "    student[\"Năm sinh\"] = input(\"Nhập năm sinh: \")\n",
    "    student[\"Giới tính\"] = input(\"Nhập giới tính: \")\n",
    "    student[\"Dân tộc\"] = input(\"Nhập dân tộc: \")\n",
    "    \n",
    "    DSSV.append(student)\n",
    "    print(\"Đã thêm sinh viên thành công!\")\n",
    "\n",
    "def delete_student():\n",
    "    msv = input(\"Nhập mã sinh viên cần xóa: \")\n",
    "    found = False\n",
    "    for student in DSSV:\n",
    "        if student[\"MSV\"] == msv:\n",
    "            DSSV.remove(student)\n",
    "            found = True\n",
    "            print(f\"Đã xóa sinh viên có mã là {msv}\")\n",
    "            break\n",
    "    if not found: print(f\"Không tìm thấy sinh viên có mã là {msv}\")\n",
    "\n",
    "def edit_student():\n",
    "    msv = input(\"Nhập mã sinh viên cần sửa: \")\n",
    "    found = False\n",
    "    for student in DSSV:\n",
    "        if student[\"MSV\"] == msv:\n",
    "            student[\"MSV\"] = input(\"Nhập mã số sinh viên (MSV): \")\n",
    "            student[\"Họ và Tên\"] = input(\"Nhập họ và tên: \")\n",
    "            student[\"Năm sinh\"] = input(\"Nhập năm sinh: \")\n",
    "            student[\"Giới tính\"] = input(\"Nhập giới tính: \")\n",
    "            student[\"Dân tộc\"] = input(\"Nhập dân tộc: \")\n",
    "            found = True\n",
    "            print(\"Sửa thông tin thành công\")\n",
    "            break\n",
    "    if not found: print(f\"Không tìm thấy sinh viên với mã là {msv}\")\n",
    "\n",
    "while True:\n",
    "    print(\"\\nChọn thao tác:\")\n",
    "    print(\"1. Hiển thị danh sách sinh viên\")\n",
    "    print(\"2. Thêm sinh viên\")\n",
    "    print(\"3. Xóa sinh viên\")\n",
    "    print(\"4. Sửa thông tin sinh viên\")\n",
    "    print(\"5. Thoát\")\n",
    "    \n",
    "    choice = input(\"Nhập lựa chọn của bạn: \")\n",
    "    \n",
    "    if choice == \"1\":\n",
    "        display_students()\n",
    "    elif choice == \"2\":\n",
    "        add_student()\n",
    "    elif choice == \"3\":\n",
    "        delete_student()\n",
    "    elif choice == \"4\":\n",
    "        edit_student()\n",
    "    elif choice == \"5\":\n",
    "        print(\"Tạm biệt!\")\n",
    "        break\n",
    "    else:\n",
    "        print(\"Lựa chọn không hợp lệ, vui lòng thử lại.\")"
   ]
  },
  {
   "cell_type": "code",
   "execution_count": null,
   "id": "a925c924",
   "metadata": {},
   "outputs": [],
   "source": []
  },
  {
   "cell_type": "code",
   "execution_count": null,
   "id": "3e1a70e9",
   "metadata": {},
   "outputs": [],
   "source": []
  }
 ],
 "metadata": {
  "kernelspec": {
   "display_name": "Python 3 (ipykernel)",
   "language": "python",
   "name": "python3"
  },
  "language_info": {
   "codemirror_mode": {
    "name": "ipython",
    "version": 3
   },
   "file_extension": ".py",
   "mimetype": "text/x-python",
   "name": "python",
   "nbconvert_exporter": "python",
   "pygments_lexer": "ipython3",
   "version": "3.9.12"
  }
 },
 "nbformat": 4,
 "nbformat_minor": 5
}
